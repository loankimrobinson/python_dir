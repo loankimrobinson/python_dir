{
 "cells": [
  {
   "cell_type": "code",
   "execution_count": 5,
   "id": "22ad8b31",
   "metadata": {},
   "outputs": [],
   "source": [
    "import pandas as pd\n",
    "import numpy as np\n",
    "import glob\n",
    "import sys\n",
    "import os\n",
    "from sklearn.metrics.pairwise import euclidean_distances #pip3 install -U scikit-learn"
   ]
  },
  {
   "cell_type": "code",
   "execution_count": 21,
   "id": "975ba5c2",
   "metadata": {},
   "outputs": [
    {
     "data": {
      "text/plain": [
       "'/Users/robinl18'"
      ]
     },
     "execution_count": 21,
     "metadata": {},
     "output_type": "execute_result"
    }
   ],
   "source": [
    "os. getcwd() # check directory"
   ]
  },
  {
   "cell_type": "code",
   "execution_count": 10,
   "id": "d41293b4",
   "metadata": {},
   "outputs": [],
   "source": [
    "path = '/Users/robinl18'\n",
    "os.chdir(path) # change directory"
   ]
  },
  {
   "cell_type": "code",
   "execution_count": 13,
   "id": "47b27e55",
   "metadata": {},
   "outputs": [
    {
     "name": "stdout",
     "output_type": "stream",
     "text": [
      "True\n"
     ]
    }
   ],
   "source": [
    "# Check whether the specified\n",
    "# path exists or not\n",
    "isExist = os.path.exists(path)\n",
    "print(isExist)\n"
   ]
  },
  {
   "cell_type": "code",
   "execution_count": 19,
   "id": "d23d3262",
   "metadata": {},
   "outputs": [
    {
     "name": "stdout",
     "output_type": "stream",
     "text": [
      "True\n"
     ]
    }
   ],
   "source": [
    "file = \"Downloads/2023-04-03_evotec_tracking_spare_neosub_to_Jenna.csv\"\n",
    "isExist = os.path.exists(file)\n",
    "print(isExist)"
   ]
  },
  {
   "cell_type": "code",
   "execution_count": 26,
   "id": "68a1bdb1",
   "metadata": {},
   "outputs": [],
   "source": [
    "import shutil"
   ]
  },
  {
   "cell_type": "code",
   "execution_count": 30,
   "id": "f1f77bb2",
   "metadata": {},
   "outputs": [],
   "source": [
    "# Create a new directory and overwrite the old one\n",
    "directory = os. getcwd()\n",
    "sub_directory = \"Project/Python/Practice_1\"\n",
    "path = os.path.join(directory, sub_directory)\n",
    "\n",
    "if os.path.exists(path):\n",
    "    shutil.rmtree(path)\n",
    "os.makedirs(path)"
   ]
  },
  {
   "cell_type": "code",
   "execution_count": 31,
   "id": "0ee6ee03",
   "metadata": {},
   "outputs": [
    {
     "name": "stdout",
     "output_type": "stream",
     "text": [
      "True\n"
     ]
    }
   ],
   "source": [
    "path = os.path.join(directory, sub_directory)\n",
    "isExist = os.path.exists(path)\n",
    "print(isExist)"
   ]
  },
  {
   "cell_type": "code",
   "execution_count": 36,
   "id": "f027d958",
   "metadata": {},
   "outputs": [
    {
     "name": "stdout",
     "output_type": "stream",
     "text": [
      "Directory '/Users/robinl18/Project/Python/Practice_1' already existed\n"
     ]
    }
   ],
   "source": [
    "# Create a new directory if NOT exist\n",
    "directory = os. getcwd()\n",
    "sub_directory = \"Project/Python/Practice_1\"\n",
    "path = os.path.join(directory, sub_directory)\n",
    "\n",
    "if not os.path.exists(path):\n",
    "    os.makedirs(path)\n",
    "    print(path)\n",
    "else:\n",
    "    print(\"Directory '% s' already existed\" % path)"
   ]
  },
  {
   "cell_type": "code",
   "execution_count": 42,
   "id": "14ccefa9",
   "metadata": {},
   "outputs": [
    {
     "data": {
      "text/plain": [
       "['/Users/robinl18/Project/Python/Script',\n",
       " '/Users/robinl18/Project/Python/Data_Analysis',\n",
       " '/Users/robinl18/Project/Python/Outputs']"
      ]
     },
     "execution_count": 42,
     "metadata": {},
     "output_type": "execute_result"
    }
   ],
   "source": [
    "# Testing before create a list of directories\n",
    "directory = \"/Users/robinl18/Project/Python\"\n",
    "sub_directory = [\"Script\", \"Data_Analysis\",\"Outputs\"]\n",
    "[directory + '/' + str(i) for i in sub_directory]"
   ]
  },
  {
   "cell_type": "code",
   "execution_count": 46,
   "id": "d2176d49",
   "metadata": {},
   "outputs": [
    {
     "name": "stdout",
     "output_type": "stream",
     "text": [
      "/Users/robinl18/Project/Python/Script\n",
      "/Users/robinl18/Project/Python/Data_Analysis\n",
      "/Users/robinl18/Project/Python/Outputs\n"
     ]
    }
   ],
   "source": [
    "# Create list of directory\n",
    "directory = \"/Users/robinl18/Project/Python\"\n",
    "sub_directory = [\"Script\", \"Data_Analysis\",\"Outputs\"]\n",
    "\n",
    "for sub in sub_directory:\n",
    "    path = os.path.join(directory, sub)\n",
    "    if not os.path.exists(path):\n",
    "        os.makedirs(path)\n",
    "        print(path)\n",
    "    else:\n",
    "        print(\"Directory '% s' already existed\" % path)"
   ]
  }
 ],
 "metadata": {
  "kernelspec": {
   "display_name": "Python 3 (ipykernel)",
   "language": "python",
   "name": "python3"
  },
  "language_info": {
   "codemirror_mode": {
    "name": "ipython",
    "version": 3
   },
   "file_extension": ".py",
   "mimetype": "text/x-python",
   "name": "python",
   "nbconvert_exporter": "python",
   "pygments_lexer": "ipython3",
   "version": "3.9.6"
  }
 },
 "nbformat": 4,
 "nbformat_minor": 5
}
